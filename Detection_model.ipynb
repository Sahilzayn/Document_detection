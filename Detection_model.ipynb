{
 "cells": [
  {
   "cell_type": "code",
   "execution_count": 9,
   "metadata": {},
   "outputs": [],
   "source": []
  },
  {
   "cell_type": "code",
   "execution_count": 10,
   "metadata": {},
   "outputs": [
    {
     "name": "stderr",
     "output_type": "stream",
     "text": [
      "WARNING:absl:Compiled the loaded model, but the compiled metrics have yet to be built. `model.compile_metrics` will be empty until you train or evaluate the model.\n",
      "WARNING:absl:Compiled the loaded model, but the compiled metrics have yet to be built. `model.compile_metrics` will be empty until you train or evaluate the model.\n",
      "WARNING:absl:Compiled the loaded model, but the compiled metrics have yet to be built. `model.compile_metrics` will be empty until you train or evaluate the model.\n",
      "WARNING:absl:Compiled the loaded model, but the compiled metrics have yet to be built. `model.compile_metrics` will be empty until you train or evaluate the model.\n"
     ]
    }
   ],
   "source": [
    "model1 = load_model('bank_statement_model.h5')\n",
    "model2 = load_model('pan_card_model.h5')\n",
    "model3 = load_model('passport_card_model.h5')\n",
    "model4 = load_model('aadhar_card_model.h5')"
   ]
  },
  {
   "cell_type": "code",
   "execution_count": 11,
   "metadata": {},
   "outputs": [],
   "source": [
    "\n",
    "def preprocess_img(image_path):\n",
    "    img = cv2.imread(image_path)\n",
    "    resized_img = cv2.resize(img, (224, 224))\n",
    "    normalized_img = resized_img.astype('float32') / 255.0  # Fixed the typo here\n",
    "    return np.expand_dims(normalized_img, axis=0)       \n",
    "\n"
   ]
  },
  {
   "cell_type": "code",
   "execution_count": 12,
   "metadata": {},
   "outputs": [],
   "source": [
    "def predict_image(image_path, model):\n",
    "    processed_image = preprocess_img(image_path)\n",
    "    predictions = model.predict(processed_image)\n",
    "    return predictions"
   ]
  },
  {
   "cell_type": "code",
   "execution_count": 13,
   "metadata": {},
   "outputs": [],
   "source": [
    "def classify_document(image_path, doc_type):\n",
    "    if doc_type == 'bank_statement':\n",
    "        model = model1\n",
    "        label = 'Bank Statement'\n",
    "    elif doc_type == 'pan_card':\n",
    "        model = model2\n",
    "        label = 'PAN Card'\n",
    "    elif doc_type == 'passport_card':\n",
    "        model = model3\n",
    "        label = 'Passport Card'\n",
    "    elif doc_type == 'aadhar_card':\n",
    "        model = model4\n",
    "        label = 'Aadhar Card'\n",
    "    else:\n",
    "        raise ValueError(\"Invalid document type\")\n",
    "\n",
    "    predictions = predict_image(image_path, model)\n",
    "    return label if predictions[0][0] >= 0.5 else f'Not a {label}'"
   ]
  },
  {
   "cell_type": "code",
   "execution_count": 19,
   "metadata": {},
   "outputs": [
    {
     "name": "stdout",
     "output_type": "stream",
     "text": [
      "\u001b[1m1/1\u001b[0m \u001b[32m━━━━━━━━━━━━━━━━━━━━\u001b[0m\u001b[37m\u001b[0m \u001b[1m1s\u001b[0m 664ms/step\n",
      "Aadhar Card\n"
     ]
    }
   ],
   "source": [
    "image_path = 'C:/Users/vivenns23/Desktop/model/aadhar_card_detection/addhar_card/add (1).jpg'\n",
    "doc_type = 'aadhar_card'  \n",
    "result = classify_document(image_path, doc_type)\n",
    "print(result)"
   ]
  },
  {
   "cell_type": "code",
   "execution_count": null,
   "metadata": {},
   "outputs": [],
   "source": []
  }
 ],
 "metadata": {
  "kernelspec": {
   "display_name": "Python 3",
   "language": "python",
   "name": "python3"
  },
  "language_info": {
   "codemirror_mode": {
    "name": "ipython",
    "version": 3
   },
   "file_extension": ".py",
   "mimetype": "text/x-python",
   "name": "python",
   "nbconvert_exporter": "python",
   "pygments_lexer": "ipython3",
   "version": "3.12.4"
  }
 },
 "nbformat": 4,
 "nbformat_minor": 2
}
